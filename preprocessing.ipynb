{
 "cells": [
  {
   "cell_type": "code",
   "execution_count": 157,
   "id": "5f226f04",
   "metadata": {},
   "outputs": [],
   "source": [
    "import numpy as np\n",
    "import pandas as pd\n",
    "import janitor\n",
    "import os\n",
    "\n",
    "\n"
   ]
  },
  {
   "cell_type": "code",
   "execution_count": 158,
   "id": "896cd9d5",
   "metadata": {},
   "outputs": [],
   "source": [
    "ice = pd.read_excel('2025-ICLI-00019_2024-ICFO-39357_ERO Encounters_raw.xlsx', \n",
    "                    sheet_name=1, \n",
    "                    skiprows=6)"
   ]
  },
  {
   "cell_type": "code",
   "execution_count": 159,
   "id": "7e0ba29a",
   "metadata": {},
   "outputs": [
    {
     "data": {
      "text/html": [
       "<div>\n",
       "<style scoped>\n",
       "    .dataframe tbody tr th:only-of-type {\n",
       "        vertical-align: middle;\n",
       "    }\n",
       "\n",
       "    .dataframe tbody tr th {\n",
       "        vertical-align: top;\n",
       "    }\n",
       "\n",
       "    .dataframe thead th {\n",
       "        text-align: right;\n",
       "    }\n",
       "</style>\n",
       "<table border=\"1\" class=\"dataframe\">\n",
       "  <thead>\n",
       "    <tr style=\"text-align: right;\">\n",
       "      <th></th>\n",
       "      <th>event_date</th>\n",
       "      <th>responsible_aor</th>\n",
       "      <th>responsible_site</th>\n",
       "      <th>lead_event_type</th>\n",
       "      <th>lead_source</th>\n",
       "      <th>event_type</th>\n",
       "      <th>final_program</th>\n",
       "      <th>final_program_group</th>\n",
       "      <th>encounter_criminality</th>\n",
       "      <th>processing_disposition</th>\n",
       "      <th>...</th>\n",
       "      <th>final_order_date</th>\n",
       "      <th>birth_date</th>\n",
       "      <th>birth_year</th>\n",
       "      <th>citizenship_country</th>\n",
       "      <th>gender</th>\n",
       "      <th>event_landmark</th>\n",
       "      <th>alien_file_number</th>\n",
       "      <th>eid_case_id</th>\n",
       "      <th>eid_subject_id</th>\n",
       "      <th>unique_identifier</th>\n",
       "    </tr>\n",
       "  </thead>\n",
       "  <tbody>\n",
       "    <tr>\n",
       "      <th>0</th>\n",
       "      <td>2024-08-03</td>\n",
       "      <td>HQ Area of Responsibility</td>\n",
       "      <td>ERO - Pacific Enforcement Response Center</td>\n",
       "      <td>Not applicable</td>\n",
       "      <td>NaN</td>\n",
       "      <td>CAP Local</td>\n",
       "      <td>ERO Criminal Alien Program</td>\n",
       "      <td>ICE</td>\n",
       "      <td>3 Other Immigration Violator</td>\n",
       "      <td>Prosecutorial Discretion</td>\n",
       "      <td>...</td>\n",
       "      <td>NaT</td>\n",
       "      <td>(b)(6), (b)(7)(c)</td>\n",
       "      <td>2006.0</td>\n",
       "      <td>HONDURAS</td>\n",
       "      <td>Male</td>\n",
       "      <td>NaN</td>\n",
       "      <td>(b)(6), (b)(7)(c)</td>\n",
       "      <td>NaN</td>\n",
       "      <td>(b)(6), (b)(7)(C), (6)(7)(E)</td>\n",
       "      <td>000080c6fa4a6ecd0b3beed3c559582c4205c50a</td>\n",
       "    </tr>\n",
       "    <tr>\n",
       "      <th>1</th>\n",
       "      <td>2024-10-18</td>\n",
       "      <td>Seattle Area of Responsibility</td>\n",
       "      <td>PORTLAND, OR, DOCKET CONTROL OFFICE</td>\n",
       "      <td>Not applicable</td>\n",
       "      <td>NaN</td>\n",
       "      <td>CAP Local</td>\n",
       "      <td>ERO Criminal Alien Program</td>\n",
       "      <td>ICE</td>\n",
       "      <td>3 Other Immigration Violator</td>\n",
       "      <td>Not in Custody</td>\n",
       "      <td>...</td>\n",
       "      <td>NaT</td>\n",
       "      <td>(b)(6), (b)(7)(c)</td>\n",
       "      <td>2006.0</td>\n",
       "      <td>HONDURAS</td>\n",
       "      <td>Unknown</td>\n",
       "      <td>NaN</td>\n",
       "      <td>(b)(6), (b)(7)(c)</td>\n",
       "      <td>(b)(6), (b)(7)(c) (b)(7)(E)</td>\n",
       "      <td>(b)(6), (b)(7)(C), (6)(7)(E)</td>\n",
       "      <td>000080c6fa4a6ecd0b3beed3c559582c4205c50a</td>\n",
       "    </tr>\n",
       "    <tr>\n",
       "      <th>2</th>\n",
       "      <td>2024-11-21</td>\n",
       "      <td>Seattle Area of Responsibility</td>\n",
       "      <td>PORTLAND, OR, DOCKET CONTROL OFFICE</td>\n",
       "      <td>Not applicable</td>\n",
       "      <td>NaN</td>\n",
       "      <td>CAP Local</td>\n",
       "      <td>ERO Criminal Alien Program</td>\n",
       "      <td>ICE</td>\n",
       "      <td>3 Other Immigration Violator</td>\n",
       "      <td>Warrant of Arrest/Notice to Appear</td>\n",
       "      <td>...</td>\n",
       "      <td>NaT</td>\n",
       "      <td>(b)(6), (b)(7)(c)</td>\n",
       "      <td>2006.0</td>\n",
       "      <td>HONDURAS</td>\n",
       "      <td>Unknown</td>\n",
       "      <td>NaN</td>\n",
       "      <td>(b)(6), (b)(7)(c)</td>\n",
       "      <td>NaN</td>\n",
       "      <td>(b)(6), (b)(7)(C), (6)(7)(E)</td>\n",
       "      <td>000080c6fa4a6ecd0b3beed3c559582c4205c50a</td>\n",
       "    </tr>\n",
       "    <tr>\n",
       "      <th>3</th>\n",
       "      <td>2025-02-16</td>\n",
       "      <td>HQ Area of Responsibility</td>\n",
       "      <td>ERO - Pacific Enforcement Response Center</td>\n",
       "      <td>Not applicable</td>\n",
       "      <td>NaN</td>\n",
       "      <td>CAP Local</td>\n",
       "      <td>ERO Criminal Alien Program</td>\n",
       "      <td>ICE</td>\n",
       "      <td>3 Other Immigration Violator</td>\n",
       "      <td>Not in Custody</td>\n",
       "      <td>...</td>\n",
       "      <td>NaT</td>\n",
       "      <td>(b)(6), (b)(7)(c)</td>\n",
       "      <td>2002.0</td>\n",
       "      <td>MEXICO</td>\n",
       "      <td>Male</td>\n",
       "      <td>NaN</td>\n",
       "      <td>(b)(6), (b)(7)(c)</td>\n",
       "      <td>NaN</td>\n",
       "      <td>(b)(6), (b)(7)(C), (6)(7)(E)</td>\n",
       "      <td>0000ad75abb300f8b89ada314a02a508fb886ad8</td>\n",
       "    </tr>\n",
       "    <tr>\n",
       "      <th>4</th>\n",
       "      <td>2025-03-20</td>\n",
       "      <td>New York City Area of Responsibility</td>\n",
       "      <td>VARRICK, NY, SERVICE PROCESSING CENTER (DOCKET...</td>\n",
       "      <td>Not applicable</td>\n",
       "      <td>NaN</td>\n",
       "      <td>CAP Local</td>\n",
       "      <td>ERO Criminal Alien Program</td>\n",
       "      <td>ICE</td>\n",
       "      <td>2 Pending Criminal Charges</td>\n",
       "      <td>Detainer</td>\n",
       "      <td>...</td>\n",
       "      <td>NaT</td>\n",
       "      <td>(b)(6), (b)(7)(c)</td>\n",
       "      <td>1980.0</td>\n",
       "      <td>VENEZUELA</td>\n",
       "      <td>Male</td>\n",
       "      <td>CAP - QUEENS CENTRAL BOOKING NY State</td>\n",
       "      <td>(b)(6), (b)(7)(c)</td>\n",
       "      <td>(b)(6), (b)(7)(c) (b)(7)(E)</td>\n",
       "      <td>(b)(6), (b)(7)(C), (6)(7)(E)</td>\n",
       "      <td>0000b05116e18fc26472d546d43da50f24133e9c</td>\n",
       "    </tr>\n",
       "  </tbody>\n",
       "</table>\n",
       "<p>5 rows × 25 columns</p>\n",
       "</div>"
      ],
      "text/plain": [
       "  event_date                       responsible_aor  \\\n",
       "0 2024-08-03             HQ Area of Responsibility   \n",
       "1 2024-10-18        Seattle Area of Responsibility   \n",
       "2 2024-11-21        Seattle Area of Responsibility   \n",
       "3 2025-02-16             HQ Area of Responsibility   \n",
       "4 2025-03-20  New York City Area of Responsibility   \n",
       "\n",
       "                                    responsible_site lead_event_type  \\\n",
       "0          ERO - Pacific Enforcement Response Center  Not applicable   \n",
       "1                PORTLAND, OR, DOCKET CONTROL OFFICE  Not applicable   \n",
       "2                PORTLAND, OR, DOCKET CONTROL OFFICE  Not applicable   \n",
       "3          ERO - Pacific Enforcement Response Center  Not applicable   \n",
       "4  VARRICK, NY, SERVICE PROCESSING CENTER (DOCKET...  Not applicable   \n",
       "\n",
       "  lead_source event_type               final_program final_program_group  \\\n",
       "0         NaN  CAP Local  ERO Criminal Alien Program                 ICE   \n",
       "1         NaN  CAP Local  ERO Criminal Alien Program                 ICE   \n",
       "2         NaN  CAP Local  ERO Criminal Alien Program                 ICE   \n",
       "3         NaN  CAP Local  ERO Criminal Alien Program                 ICE   \n",
       "4         NaN  CAP Local  ERO Criminal Alien Program                 ICE   \n",
       "\n",
       "          encounter_criminality              processing_disposition  ...  \\\n",
       "0  3 Other Immigration Violator            Prosecutorial Discretion  ...   \n",
       "1  3 Other Immigration Violator                      Not in Custody  ...   \n",
       "2  3 Other Immigration Violator  Warrant of Arrest/Notice to Appear  ...   \n",
       "3  3 Other Immigration Violator                      Not in Custody  ...   \n",
       "4    2 Pending Criminal Charges                            Detainer  ...   \n",
       "\n",
       "  final_order_date         birth_date birth_year citizenship_country   gender  \\\n",
       "0              NaT  (b)(6), (b)(7)(c)     2006.0            HONDURAS     Male   \n",
       "1              NaT  (b)(6), (b)(7)(c)     2006.0            HONDURAS  Unknown   \n",
       "2              NaT  (b)(6), (b)(7)(c)     2006.0            HONDURAS  Unknown   \n",
       "3              NaT  (b)(6), (b)(7)(c)     2002.0              MEXICO     Male   \n",
       "4              NaT  (b)(6), (b)(7)(c)     1980.0           VENEZUELA     Male   \n",
       "\n",
       "                          event_landmark  alien_file_number  \\\n",
       "0                                    NaN  (b)(6), (b)(7)(c)   \n",
       "1                                    NaN  (b)(6), (b)(7)(c)   \n",
       "2                                    NaN  (b)(6), (b)(7)(c)   \n",
       "3                                    NaN  (b)(6), (b)(7)(c)   \n",
       "4  CAP - QUEENS CENTRAL BOOKING NY State  (b)(6), (b)(7)(c)   \n",
       "\n",
       "                   eid_case_id                eid_subject_id  \\\n",
       "0                          NaN  (b)(6), (b)(7)(C), (6)(7)(E)   \n",
       "1  (b)(6), (b)(7)(c) (b)(7)(E)  (b)(6), (b)(7)(C), (6)(7)(E)   \n",
       "2                          NaN  (b)(6), (b)(7)(C), (6)(7)(E)   \n",
       "3                          NaN  (b)(6), (b)(7)(C), (6)(7)(E)   \n",
       "4  (b)(6), (b)(7)(c) (b)(7)(E)  (b)(6), (b)(7)(C), (6)(7)(E)   \n",
       "\n",
       "                          unique_identifier  \n",
       "0  000080c6fa4a6ecd0b3beed3c559582c4205c50a  \n",
       "1  000080c6fa4a6ecd0b3beed3c559582c4205c50a  \n",
       "2  000080c6fa4a6ecd0b3beed3c559582c4205c50a  \n",
       "3  0000ad75abb300f8b89ada314a02a508fb886ad8  \n",
       "4  0000b05116e18fc26472d546d43da50f24133e9c  \n",
       "\n",
       "[5 rows x 25 columns]"
      ]
     },
     "execution_count": 159,
     "metadata": {},
     "output_type": "execute_result"
    }
   ],
   "source": [
    "ice_clean = ice.clean_names()\n",
    "ice_clean.head()"
   ]
  },
  {
   "cell_type": "markdown",
   "id": "4888189a",
   "metadata": {},
   "source": [
    "### Per column, check missingness and unsual values\n",
    "\n",
    "I replaced missing values (for character columns) with \"Not applicable\" or \"Unknown\", depending on what I thought made the most sense given my understanding of the variable. For columns in which the percentage of missing values was very low (i.e. < 1%), I dropped them. \n"
   ]
  },
  {
   "cell_type": "markdown",
   "id": "841ba50b",
   "metadata": {},
   "source": [
    "**Event Date**: Date of encounter"
   ]
  },
  {
   "cell_type": "code",
   "execution_count": 184,
   "id": "889423c6",
   "metadata": {},
   "outputs": [
    {
     "name": "stdout",
     "output_type": "stream",
     "text": [
      "700245   2025-06-27\n",
      "299002   2025-06-27\n",
      "83381    2025-06-27\n",
      "381976   2025-06-27\n",
      "700246   2025-06-27\n",
      "Name: event_date, dtype: datetime64[ns]\n",
      "477623   2024-08-01\n",
      "198794   2024-08-01\n",
      "616683   2024-08-01\n",
      "486288   2024-08-01\n",
      "354896   2024-08-01\n",
      "Name: event_date, dtype: datetime64[ns]\n"
     ]
    }
   ],
   "source": [
    "\n",
    "# unsual observation with event date at 2115-01-21\n",
    "print(ice_clean.event_date.sort_values().tail(5))\n",
    "print(ice_clean.event_date.sort_values().head(5))\n",
    "\n",
    "ice_clean[ice_clean['event_date']=='2115-01-21']\n",
    "\n",
    "# remove observation\n",
    "ice_clean = ice_clean[ice_clean['event_date']!='2115-01-21']"
   ]
  },
  {
   "cell_type": "markdown",
   "id": "9a9c925f",
   "metadata": {},
   "source": [
    "**Responsible AOR**: Area of Responsibility (ICE field office)"
   ]
  },
  {
   "cell_type": "code",
   "execution_count": 185,
   "id": "1209a1ca",
   "metadata": {},
   "outputs": [
    {
     "name": "stdout",
     "output_type": "stream",
     "text": [
      "['HQ Area of Responsibility' 'Seattle Area of Responsibility'\n",
      " 'New York City Area of Responsibility'\n",
      " 'Washington Area of Responsibility' 'Houston Area of Responsibility'\n",
      " 'Newark Area of Responsibility' 'St. Paul Area of Responsibility'\n",
      " 'Miami Area of Responsibility' 'San Francisco Area of Responsibility'\n",
      " 'New Orleans Area of Responsibility' 'Dallas Area of Responsibility'\n",
      " 'Denver Area of Responsibility' 'Buffalo Area of Responsibility'\n",
      " 'Atlanta Area of Responsibility' 'Chicago Area of Responsibility'\n",
      " 'San Diego Area of Responsibility' 'Boston Area of Responsibility'\n",
      " 'El Paso Area of Responsibility' 'Harlingen Area of Responsibility'\n",
      " 'Phoenix Area of Responsibility' 'Salt Lake City Area of Responsibility'\n",
      " 'Philadelphia Area of Responsibility' 'Detroit Area of Responsibility'\n",
      " 'San Antonio Area of Responsibility' 'Baltimore Area of Responsibility'\n",
      " 'Los Angeles Area of Responsibility']\n",
      "0.0\n"
     ]
    }
   ],
   "source": [
    "print(ice_clean['responsible_aor'].unique())\n",
    "\n",
    "# relatively small proportion of missing values of responsible AOR\n",
    "print(ice_clean['responsible_aor'].isna().sum() / ice_clean.shape[0])\n",
    "\n",
    "ice_clean = ice_clean.dropna(subset='responsible_aor')\n",
    "\n"
   ]
  },
  {
   "cell_type": "markdown",
   "id": "34cd7968",
   "metadata": {},
   "source": [
    "**Responsible Site**: Docket control office, which is a sub-office within an area of responsibility\n"
   ]
  },
  {
   "cell_type": "code",
   "execution_count": 186,
   "id": "0a69a883",
   "metadata": {},
   "outputs": [
    {
     "name": "stdout",
     "output_type": "stream",
     "text": [
      "['ERO - Pacific Enforcement Response Center'\n",
      " 'PORTLAND, OR, DOCKET CONTROL OFFICE'\n",
      " 'VARRICK, NY, SERVICE PROCESSING CENTER (DOCKET CONTROL OFFICE)'\n",
      " 'ERO - Harrisonburg, VA Sub Office'\n",
      " 'ERO - Montgomery County, TX Sub Office'\n",
      " 'ICE ERO - MOUNT LAUREL NJ SUB-OFC' 'ST. PAUL, MN, DOCKET CONTROL OFFICE'\n",
      " 'ERO - Bradenton, FL Sub Office'\n",
      " 'SAN FRANCISCO, CA, DOCKET CONTROL OFFICE'\n",
      " 'NEW ORLEANS, LA, DOCKET CONTROL OFFICE'\n",
      " 'DALLAS, TX, DOCKET CONTROL OFFICE' 'ERO - Frederick, CO, Sub office'\n",
      " 'ERO - Central Islip, NY Sub Office' 'BATAVIA CMD CTR NY DCO'\n",
      " 'ERO - Stuart, FL Sub Office' 'ERO - Charlotte, NC Sub-Office'\n",
      " 'CHICAGO, IL, DOCKET CONTROL OFFICE' 'TAMPA, FL, DOCKET CONTROL OFFICE'\n",
      " 'ORLANDO, FL, DOCKET CONTROL OFFICE'\n",
      " 'SAN DIEGO, CA, DOCKET CONTROL OFFICE' 'ERO - Manchester, NH Sub-Office'\n",
      " 'ERO - Charleston, SC Sub-Office' 'ERO - Pecos, TX IHP Sub-Office'\n",
      " 'HARLINGEN, TX, DOCKET CONTROL OFFICE' 'ERO - El Paso, TX SPC Sub-Office'\n",
      " \"Jacksonville Sheriff's Office\" 'ERO - Birmingham, AL Sub Office'\n",
      " 'ERO - Savannah, GA Sub-Office' 'ERO - CDF Denver, CO Sub-Office'\n",
      " 'ERO - Wichita, KS Sub-Office' 'ERO - Memphis, TN Sub Office'\n",
      " 'ERO - North Platte, NE Sub Office' 'PHOENIX, AZ, DOCKET CONTROL OFFICE'\n",
      " 'SALT LAKE CITY, UT, DOCKET CONTROL OFFICE' 'ERO - Albany, NY Sub-Office'\n",
      " 'ERO - Pike County, PA Sub Office' 'ERO - Raleigh/Durham, NC Sub-Office'\n",
      " 'NEWARK, NJ, DOCKET CONTROL OFFICE' 'ERO - Laredo, TX Detention Center'\n",
      " 'PHILADELPHIA, PA, DOCKET CONTROL OFFICE'\n",
      " 'ERO - Cincinnati, OH Sub-Office' 'ERO - St. Louis, MO Sub-Office'\n",
      " 'ERO - Waco, TX Sub Office' 'ATLANTA, GA, DOCKET CONTROL OFFICE'\n",
      " 'DENVER, CO, DOCKET CONTROL OFFICE' 'MIAMI, FL, DOCKET CONTROL OFFICE'\n",
      " 'WASHINGTON, DC, Docket Control Office'\n",
      " 'ERO - San Antonio, TX Field Office'\n",
      " 'BALTIMORE, MD, DOCKET CONTROL OFFICE' 'ERO - Mobile, AL Sub Office'\n",
      " 'ERO - Boise, ID Sub Office' 'ERO - Tallahassee, FL Sub Office'\n",
      " 'ERO - Bowling Green, KY Sub-Office' 'ERO - LUBBOCK, TX SUB-OFFICE'\n",
      " 'ERO - Lompoc, CA IHP Sub-Office' 'NEW YORK, NY, DOCKET CONTROL OFFICE'\n",
      " 'Law Enforcement Support Center - ERO'\n",
      " 'SEATTLE, WA, DOCKET CONTROL OFFICE' 'WILLIAMSPORT, PA SUB OFFICE'\n",
      " 'ERO - Yuma, AZ Sub Office' 'PROVIDENCE, RI, DOCKET CONTROL OFFICE'\n",
      " 'ERO - Richmond, VA Sub Office' 'KANSAS, MO, DOCKET CONTROL OFFICE'\n",
      " 'ERO - Nashville, TN Sub Office' 'ERO - Fort Smith, AR Sub Office'\n",
      " 'BOSTON, MA, DOCKET CONTROL OFFICE' 'ERO - Grand Junction, CO Sub-Office'\n",
      " 'ERO - San Angelo, TX Sub-Office' 'ERO - Columbia, SC Sub Office'\n",
      " 'ERO - Stewart, GA Sub Office' 'ERO - Milwaukee, WI Sub-Office'\n",
      " 'HARTFORD, CT, DOCKET CONTROL OFFICE' 'ERO - Santa Ana, CA Sub-Office'\n",
      " 'ERO - Caspar, WY Sub-Office' 'ERO - San Bernardino, CA Sub Office'\n",
      " 'ERO - Richland, WA Sub Office' 'DETROIT, MI, DOCKET CONTROL OFFICE'\n",
      " 'ERO - Dover, DE Sub Office' 'ERO - Indianapolis, IN Sub-Office'\n",
      " 'ERO - Jacksonville, FL Sub Office' 'ERO - Oklahoma City, OK Sub-Office'\n",
      " 'ERO - Montgomery, AL Sub Office'\n",
      " 'KROME, MIAMI, FL, DOCKET CONTROL OFFICE'\n",
      " 'ERO - Huntsville, TX IRP Sub-Office' 'ERO - Louisville, KY Sub-Office'\n",
      " 'ICE ERO-Midland, TX Sub-Office' 'Massachusetts Department of Correction'\n",
      " 'ERO - Pueblo, CO Sub-Office' 'LOS ANGELES, CA, DOCKET CONTROL OFFICE'\n",
      " 'RENO, NV, DOCKET CONTROL OFFICE' 'ERO - SIOUX FALLS,SD Sub Office'\n",
      " 'ERO - Grand Rapids, MI Sub-Office' 'ERO - Austin, TX Sub Office'\n",
      " 'ERO - Texarkana, AR Sub Office' 'ERO - Syracuse, NY Sub-Office'\n",
      " 'ERO - Fresno, CA Sub Office' 'HOUSTON, TX, DOCKET CONTROL OFFICE'\n",
      " 'ERO - Batavia, NY SPC Sub-Office' 'ERO - Jackson, MS Sub Office'\n",
      " 'PITTSBURGH, PA, DOCKET CONTROL OFFICE' 'ERO - Fort Myers, FL Sub Office'\n",
      " 'ERO - Eugene, OR Sub Office' 'ERO - Champlain, NY Sub-Office'\n",
      " 'ERO - SAN JOSE,CA Sub Office' 'ERO - YORK, PA SUB-OFFICE'\n",
      " 'ERO - Gulfport, LA Sub Office' 'Desert View Annex'\n",
      " 'ERO - Sacramento, CA Sub Office' 'ERO - Sioux City, IA Sub Office'\n",
      " 'ERO - Des Moines, IA Sub Office' 'ERO - Cedar Rapids, IA Sub Office'\n",
      " 'ERO - Craig, CO Sub-Office' 'ERO - Fayetteville, AR Sub Office'\n",
      " 'Fort Wayne, IN sub-office' 'ERO - Billings, MT Sub Office'\n",
      " 'DALLAS EAST, MCAT' 'ERO - Provo, UT Sub Office'\n",
      " 'OMAHA, NE, DOCKET CONTROL OFFICE' \"Gaston County Sheriff's Office\"\n",
      " 'ERO - Bakersfield, CA IHP Sub Office'\n",
      " 'BUFFALO, NY, DOCKET CONTROL OFFICE' 'ERO - Ogden, UT Sub Office'\n",
      " 'ERO - COLUMBUS, OH SUB-OFFICE' 'FISHKILL, NY IRP SUB-OFFICE'\n",
      " \"York County Sheriff's Office\"\n",
      " 'FLORENCE, AZ, SERVICE PROCESSING CENTER (DOCKET CONTROL OFFICE)'\n",
      " \"HORRY COUNTY SHERIFF'S OFFICE- J. REUBEN LONG DETENTION CENTER\"\n",
      " 'ERO - Albuquerque, NM Sub-Office' 'ERO - Oakdale, LA Sub-Office'\n",
      " \"Tulsa County Sheriff's Office\" 'PORTLAND, ME, DOCKET CONTROL OFFICE'\n",
      " 'ICE ERO Miami Pensacola Sub-Office' 'ERO - Springfield, MO Sub-Office'\n",
      " 'ERO - Grand Forks, ND Sub Office' 'LAS VEGAS, NV, DOCKET CONTROL OFFICE'\n",
      " 'ERO - SPOKANE,WA Sub Office' 'ERO - Ventura, CA Sub Office'\n",
      " 'ERO - Etowah, AL Sub Office' 'ERO - Little Rock, AR Sub-Office'\n",
      " 'ANCHORAGE, AK, DOCKET CONTROL OFFICE' 'ERO - SALISBURY, MD SUB OFFICE'\n",
      " 'ERO - St. Albans, VT Sub Office' 'ERO - Rock Island, IL Sub-Office'\n",
      " 'ERO - Grand Island, NE Sub Office' \"Cabarrus County Sheriff's Office\"\n",
      " \"Whitfield County Sheriff's Office\" 'ERO - Chatanooga, TN Sub Office'\n",
      " 'ICE ERO Miami Panama City Beach Sub-Office'\n",
      " 'ERO - Roanoke, VA Sub Office' 'ERO - St. George, UT Sub Office'\n",
      " 'ERO - NORFOLK,VA Sub Office' 'ERO - Big Springs, TX IRP Sub-Office'\n",
      " \"KNOX COUNTY SHERIFF'S OFFICE\" 'ERO - Knoxville, TN Sub Office'\n",
      " \"Hall County Sheriff's Office\"\n",
      " 'SAN JUAN, PR, SERVICE PROCESSING CENTER (DOCKET CONTROL OFFICE)'\n",
      " 'ERO - Yakima, WA Sub-Office' \"Collier County Sheriff's Office\"\n",
      " 'Prairieland Detention Center' 'Arizona Department of Corrections'\n",
      " 'TUCSON, AZ, DOCKET CONTROL OFFICE' 'ERO - Santa Maria, CA Sub-Office'\n",
      " \"Benton County Sheriff's Office\" 'ERO - Lafayette, LA Sub-Office'\n",
      " 'ERO - Wilmington, NC Sub Office' 'ERO - Twin Falls, Idaho Sub Office'\n",
      " 'ERO - Corpus Christi, TX Sub-Office' \"CLAY COUNTY SHERIFF'S OFFICE\"\n",
      " 'PORT ISABEL, TX, DOCKET CONTROL OFFICE'\n",
      " 'ERO - Idaho Falls, Idaho Sub Office' 'Ferndale Sub Office DCO'\n",
      " 'WASHINGTON, DC, (HQ) DOCKET CONTROL OFFICE'\n",
      " 'Bluebonnet Detention Center' 'ERO - Durango, CO Sub-Office'\n",
      " 'ERO - Greer, SC Sub-Office' 'ERO - Baton Rouge, LA Sub Office'\n",
      " 'ERO - Imperial, CA Sub Office' 'ERO - Aguadilla, PR SPC Sub Office'\n",
      " 'Georgia Department of Corrections' 'ERO - TULSA, OK SUB-OFFICE'\n",
      " 'ERO - Charleston, WV Sub Office'\n",
      " 'ELOY, AZ, SERVICE PROCESSING CENTER (DOCKET CONTROL OFFICE)'\n",
      " 'ERO - Del Rio, TX Sub Office' 'ERO - Cheyenne, WY Sub-Office'\n",
      " 'ERO - Karnes City, TX Sub-Office' \"MONTGOMERY COUNTY SHERIFF'S OFFICE\"\n",
      " 'Roswell, NM Sub-Office' 'Moshannon Valley Processing Center'\n",
      " \"ERO - FLOYD COUNTY SHERIFF'S OFFICE\" 'ERO - Alexandria, LA Sub-Office'\n",
      " 'ERO - Shreveport, LA Sub-Office' 'ERO - EDINBURG, TX, SUB-OFFICE'\n",
      " 'ERO - Conroe, TX CDF Sub-Office' \"HARFORD COUNTY SHERIFF'S OFFICE\"\n",
      " 'ERO - South Texas, TX Detention Facility' 'ERO - Saipan, MP Sub Office'\n",
      " 'Cibola County Correctional Center' \"Cecil County Sheriff's Office\"\n",
      " \"Nueces County Sheriff's Office\" 'ERO - Jena, LA Sub Office'\n",
      " 'Newburgh NY, Sub-Office' 'ERO - Henderson, NC Sub Office'\n",
      " 'Redding, CA Sub-Office' 'ERO - Amarillo, TX Sub-Office'\n",
      " 'ERO - Greensboro, NC Sub Office' 'ERO - Stockton, CA Sub Office'\n",
      " 'ERO - Rapid City, SD Sub Office' 'CLEVELAND, OH, DOCKET CONTROL OFFICE'\n",
      " \"Frederick County Sheriff's Office\" 'ERO - TACOMA,WA Sub Office'\n",
      " 'ERO - Medford, OR Sub Office' 'ERO - Otero County Processing Center'\n",
      " 'Adelanto, CA Sub-Office ERO' \"Yavapai County Sheriff's Office\"\n",
      " 'ERO - Winnfield, LA Sub-Office'\n",
      " 'US VIRGIN ISLANDS, CHARLOTTE AMALIE, DOCKET CONTROL OFFICE'\n",
      " 'ERO - White Plains, NY Sub Office' 'ERO - Hutto, TX Sub Office'\n",
      " 'ERO - Wenatchee,WA Sub Office' 'ERO - Otay CCA Facility, CA Sub Office'\n",
      " \"TARRANT COUNTY SHERIFF'S OFFICE\" \"Lexington County Sheriff's Department\"\n",
      " 'ERO - Alamosa, CO Sub-Office' 'HONOLULU, HI, DOCKET CONTROL OFFICE'\n",
      " 'ERO - Livingston, TX Sub-Office' 'Dilley Immigration Processing Center'\n",
      " \"Rensselaer County Sheriff's Office\" \"POTTER COUNTY SHERIFF'S OFFICE\"\n",
      " 'Folkston ICE Processing Center' 'EL PASO, TX, DOCKET CONTROL OFFICE'\n",
      " \"Henderson County Sheriff's Office\" 'AGANA, GUAM, DOCKET CONTROL OFFICE'\n",
      " \"Pinal County Sheriff's Office\" 'ICE ERO LAS CRUCES Sub Office'\n",
      " 'ERO - HELENA,MT Sub Office' 'ERO - Houston, TX CDF Sub-Office'\n",
      " \"Teller County Sheriff's Office\" \"San Bernardino County Sheriff's Office\"\n",
      " \"Hernando County Sheriff's Office\" 'EL CENTRO, CA, DOCKET CONTROL OFFICE'\n",
      " \"Harris County Sheriff's Office\" 'ERO - Gainesville, GA Sub Office'\n",
      " \"Etowah County Sheriff's Office\" 'ERO - Glenwood Springs, CO Sub-Office'\n",
      " 'Eden Detention Center' \"Greene County Sheriff's Office\"\n",
      " 'Waukesha County Sheriffs Office' 'South Texas Family Residential Center'\n",
      " \"ARANSAS COUNTY SHERIFF'S OFFICE\" 'ERO - Dalton, GA Sub-Office'\n",
      " \"VICTORIA COUNTY SHERIFF'S OFFICE\" \"CANADIAN COUNTY SHERIFF'S OFFICE\"\n",
      " \"TERRELL COUNTY SHERIFF'S OFFICE\" \"GOLIAD COUNTY SHERIFF'S OFFICE\"]\n",
      "0.0\n"
     ]
    }
   ],
   "source": [
    "print(ice_clean['responsible_site'].unique())\n",
    "\n",
    "# no missing values within existing subset\n",
    "print(ice_clean['responsible_site'].isna().sum() / ice_clean.shape[0])\n",
    "\n"
   ]
  },
  {
   "cell_type": "markdown",
   "id": "37035d67",
   "metadata": {},
   "source": [
    "**Lead event type**: unknown"
   ]
  },
  {
   "cell_type": "code",
   "execution_count": 187,
   "id": "d1ef4803",
   "metadata": {},
   "outputs": [
    {
     "name": "stdout",
     "output_type": "stream",
     "text": [
      "['Not applicable' 'CAP Federal' 'CAP Local' 'Alternatives to Detention'\n",
      " '287(g) Program Activities (Lead)' 'Non-Detained Docket Control'\n",
      " 'Fugitive Operations (Lead)' 'CAP State' 'ERO Criminal Prosecutions'\n",
      " 'Joint Criminal Alien Response Team' 'Detained Docket Control']\n",
      "601617\n"
     ]
    }
   ],
   "source": [
    "# no missing values, and 'Not Applicable' seems to mean something\n",
    "print(ice_clean['lead_event_type'].unique())\n",
    "print(ice_clean[ice_clean['lead_event_type']=='Not applicable'].shape[0])"
   ]
  },
  {
   "cell_type": "markdown",
   "id": "42d801bf",
   "metadata": {},
   "source": [
    "**Lead source**: Unknown\n"
   ]
  },
  {
   "cell_type": "code",
   "execution_count": 188,
   "id": "c90b0dcd",
   "metadata": {},
   "outputs": [
    {
     "name": "stdout",
     "output_type": "stream",
     "text": [
      "['Not applicable' 'BOP Referral (Bureau of Prisons)'\n",
      " 'LEA Referral (Local Enforcement Agency)' 'Other Lead'\n",
      " 'Priority Enforcement Program' 'Other Agency Referral'\n",
      " 'National Security Referral' 'USMS Referral (US Marshals Service)'\n",
      " 'Follow-up Investigation' 'DEA Referral (Drug Enforcement Agency)'\n",
      " 'Anonymous Complaint' 'GAP(General Administrative Plan) special'\n",
      " 'Deportations Referral' 'FBI Referral (Federal Bureau of Investigation)'\n",
      " 'Foreign Fugitive Referral'\n",
      " 'DOL(Department of Labor) Referral Using Form ESA-91' 'Link Analysis'\n",
      " 'Visual Surveillance' 'CIS Criminal Referral to ERO' 'Joint Effort'\n",
      " 'ATF Referral' 'Private Citizen' 'Written, Signed Complaint'\n",
      " 'Inspections Referral' 'Customs Referral'\n",
      " 'Foreign Local Enforcement Agency Referral'\n",
      " 'DOI Referral (Department of the Interior)' 'Coast Guard Referral'\n",
      " 'TECS Case Management number' 'National Targeting Plan' 'Informant'\n",
      " 'DOL(Department of Labor) Referral Using Form Other Than ESA-91'\n",
      " 'Non-Visual Surveillance' 'Dept of State Referral'\n",
      " 'Examinations Referral' 'Other Incident number'\n",
      " 'SAC Discretion 8 CFR 274a.9(b)' 'Geo. Targeting Order']\n",
      "0.0\n"
     ]
    }
   ],
   "source": [
    "print(ice_clean['lead_source'].unique())\n",
    "\n",
    "print(ice_clean['lead_source'].isna().sum() / ice_clean.shape[0])\n",
    "\n",
    "ice_clean['lead_source'] = ice_clean['lead_source'].fillna('Not applicable')"
   ]
  },
  {
   "cell_type": "markdown",
   "id": "14094063",
   "metadata": {},
   "source": [
    "**Event Type**: roughly tracks the \"Apprehension method\" field in the arrests data, though many encounters do not result in arrests."
   ]
  },
  {
   "cell_type": "code",
   "execution_count": 189,
   "id": "f13484d0",
   "metadata": {},
   "outputs": [
    {
     "name": "stdout",
     "output_type": "stream",
     "text": [
      "['CAP Local' 'Alternatives to Detention' 'ERO Criminal Alien Program'\n",
      " 'CAP Federal' 'Non-Detained Docket Control'\n",
      " 'Administrative Non-Criminal Individual' 'Fugitive Operations (Event)'\n",
      " '287(g) Program Activities' 'Criminal Alien'\n",
      " 'Administrative Criminal Alien' 'Fugitive Operations (Lead)' 'CAP State'\n",
      " 'Assault' 'ERO Reprocessed' 'Probation and Parole (Event)'\n",
      " 'ERO Criminal Prosecutions' 'Detained Docket Control'\n",
      " 'Criminal Individual' 'OCDETF' 'U.S. Marshals' 'Not applicable'\n",
      " 'Criminal Alien Smuggling' 'Administrative Alien Smuggling'\n",
      " 'Worksite Investigation' 'Criminal Sanctions' 'Undocumented Alien'\n",
      " 'Administrative Miscellaneous (Private Bill, Citation, etc)'\n",
      " 'Criminal Organization' 'Unknown' 'Joint Criminal Alien Response Team'\n",
      " 'Criminal Contraband Smuggling' 'Criminal Fraud' 'Human Trafficking'\n",
      " 'GITMO Processing' 'ARO Waiver Submission' 'Administrative Fraud'\n",
      " 'Administrative Seizure' 'Administrative Regulatory'\n",
      " 'Administrative Sanctions' 'Mass Migration'\n",
      " '287(g) Program Activities (Lead)' 'Fraud' 'Sanctions' 'Smuggling'\n",
      " 'Criminal Seizure' 'Special Alien Registration']\n",
      "0.0\n"
     ]
    }
   ],
   "source": [
    "print(ice_clean['event_type'].unique())\n",
    "\n",
    "# no actual NAs for current subset of data\n",
    "print(ice_clean['event_type'].isna().sum() / ice_clean.shape[0])"
   ]
  },
  {
   "cell_type": "code",
   "execution_count": 190,
   "id": "81272799",
   "metadata": {},
   "outputs": [
    {
     "name": "stdout",
     "output_type": "stream",
     "text": [
      "0.00021755714811204767\n"
     ]
    }
   ],
   "source": [
    "# 0.2% is 'Not applicable'\n",
    "print(ice_clean[ice_clean['event_type']=='Not applicable'].shape[0]/ ice_clean.shape[0])"
   ]
  },
  {
   "cell_type": "markdown",
   "id": "6ab0a0e8",
   "metadata": {},
   "source": [
    "**Final Program**: The program associated with the arrest (not necessarily performed by ICE), which might also be described as the category of arrest. The values show the range of these categories, but key examples are the criminal alien program, which involves arrests in prisons and jails, the 287(g) program, which involves collaboration with a local agency, and border patrol."
   ]
  },
  {
   "cell_type": "code",
   "execution_count": 191,
   "id": "9625e7b3",
   "metadata": {},
   "outputs": [
    {
     "name": "stdout",
     "output_type": "stream",
     "text": [
      "['ERO Criminal Alien Program' 'Fugitive Operations'\n",
      " 'Non-Detained Docket Control' 'Alternatives to Detention'\n",
      " 'Detention and Deportation' 'Detained Docket Control' '287G Program'\n",
      " 'Mobile Criminal Alien Team' 'Juvenile' 'ERO Criminal Prosecutions'\n",
      " 'Law Enforcement Area Response Units' '287g Task Force'\n",
      " 'Violent Criminal Alien Section']\n",
      "0.0\n"
     ]
    }
   ],
   "source": [
    "print(ice_clean['final_program'].unique())\n",
    "\n",
    "# no NAs\n",
    "print(ice_clean['final_program'].isna().sum() / ice_clean.shape[0])"
   ]
  },
  {
   "cell_type": "markdown",
   "id": "df2813e6",
   "metadata": {},
   "source": [
    "**Encounter Criminality**: This takes three values, corresponding to whether an individual has at least one criminal conviction, no criminal convictions but at least one criminal charge, or no charges or convictions (\"other immigration violator\")"
   ]
  },
  {
   "cell_type": "code",
   "execution_count": 192,
   "id": "6a9c50e9",
   "metadata": {},
   "outputs": [
    {
     "name": "stdout",
     "output_type": "stream",
     "text": [
      "['3 Other Immigration Violator' '2 Pending Criminal Charges'\n",
      " '1 Convicted Criminal']\n",
      "0.0\n"
     ]
    }
   ],
   "source": [
    "print(ice_clean['encounter_criminality'].unique())\n",
    "print(ice_clean['encounter_criminality'].isna().sum() / ice_clean.shape[0])"
   ]
  },
  {
   "cell_type": "markdown",
   "id": "172ab0c5",
   "metadata": {},
   "source": [
    "**Processing Disposition**: We are unsure how to understand the values in this field, especially in relation to case category.\n",
    "\n",
    "Maybe decision that ICE made about an immigration case after the encounter?\n"
   ]
  },
  {
   "cell_type": "code",
   "execution_count": 193,
   "id": "c86bef28",
   "metadata": {},
   "outputs": [
    {
     "name": "stdout",
     "output_type": "stream",
     "text": [
      "['Prosecutorial Discretion' 'Not in Custody'\n",
      " 'Warrant of Arrest/Notice to Appear' 'Detainer' 'Other'\n",
      " 'REINSTATEMENT OF DEPORT ORDER I-871' 'Expedited Removal (I-860)'\n",
      " 'Not Amenable to Removal' 'Expedited Removal with Credible Fear'\n",
      " 'Bag and Baggage' 'Foreign Born USC'\n",
      " 'Reinstatement of Deportation Reasonable Fear' 'Voluntary Departure'\n",
      " 'Voluntary Return' 'TURNED OVER TO'\n",
      " 'Expedited Removal (I-860) - Full Scope' 'Paroled' 'VWP Removal'\n",
      " 'ADMINISTRATIVE DEPORTATION I-851/I-851A' 'Notice to Appear (I-862)'\n",
      " 'Crew Member (I-99) Removal' 'Stowaway'\n",
      " 'Notice to Appear Detained (I-862)' 'Notice to Appear Released (I-862)'\n",
      " 'I-210' 'Expedited Removal Temporary Final Rule'\n",
      " 'Expedited Removal with Credible Fear - Full Scope' 'HSI Criminal Arrest'\n",
      " 'Withdrawal (WD-Title 42)' 'VWP Removal (GUAM-CNMI)' 'Release']\n",
      "0.0\n"
     ]
    }
   ],
   "source": [
    "print(ice_clean['processing_disposition'].unique())\n",
    "\n",
    "# Low % of NAs\n",
    "print(ice_clean['processing_disposition'].isna().sum() / ice_clean.shape[0])\n",
    "\n",
    "ice_clean = ice_clean.dropna(subset='processing_disposition')"
   ]
  },
  {
   "cell_type": "markdown",
   "id": "7e1e920d",
   "metadata": {},
   "source": [
    "**Case Status**: Includes some information about case type and status, most likely as of the date that the data was extracted."
   ]
  },
  {
   "cell_type": "code",
   "execution_count": 194,
   "id": "5298adad",
   "metadata": {},
   "outputs": [
    {
     "name": "stdout",
     "output_type": "stream",
     "text": [
      "['Unknown' 'ACTIVE' '8-Excluded/Removed - Inadmissibility'\n",
      " '6-Deported/Removed - Deportability' '3-Voluntary Departure Confirmed'\n",
      " 'E-Charging Document Canceled by ICE' 'A-Proceedings Terminated'\n",
      " '9-VR Witnessed' '0-Withdrawal Permitted - I-275 Issued'\n",
      " 'B-Relief Granted' '7-Died' '5-Title 50 Expulsion'\n",
      " 'L-Legalization - Permanent Residence Granted'\n",
      " 'Z-SAW - Permanent Residence Granted']\n",
      "0.0\n"
     ]
    }
   ],
   "source": [
    "print(ice_clean['case_status'].unique())\n",
    "\n",
    "# 63% NAs. \n",
    "# TODO: ask if NAs mean pending status\n",
    "print(ice_clean['case_status'].isna().sum() / ice_clean.shape[0])\n",
    "\n",
    "ice_clean.loc[:, 'case_status'] = ice_clean['case_status'].fillna('Unknown')\n"
   ]
  },
  {
   "cell_type": "markdown",
   "id": "7745a471",
   "metadata": {},
   "source": [
    "**Case Category**: This field includes combined information on case type and status. See https://journals.sagepub.com/doi/epdf/10.1177/233150241500300402 pp. 335-36 for descriptions of the values."
   ]
  },
  {
   "cell_type": "code",
   "execution_count": 195,
   "id": "5e22b69c",
   "metadata": {},
   "outputs": [
    {
     "name": "stdout",
     "output_type": "stream",
     "text": [
      "['Unknown' '[8A] Excludable / Inadmissible - Hearing Not Commenced'\n",
      " '[8B] Excludable / Inadmissible - Under Adjudication by IJ'\n",
      " '[16] Reinstated Final Order'\n",
      " '[8G] Expedited Removal - Credible Fear Referral'\n",
      " '[8C] Excludable / Inadmissible - Administrative Final Order Issued'\n",
      " '[2A] Deportable - Under Adjudication by IJ' '[8F] Expedited Removal'\n",
      " '[3] Deportable - Administratively Final Order'\n",
      " '[8K] Expedited Removal Terminated due to Credible Fear Finding / NTA Issued'\n",
      " '[5F] Unable to Obtain Travel Document' '[9] VR Under Safeguards'\n",
      " '[8E] Inadmissible - ICE Fugitive' '[5B] Removable - ICE Fugitive'\n",
      " '[5A] Referred for Investigation - No Show for Hearing - No Final Order'\n",
      " '[1A] Voluntary Departure - Un-Expired and Un-Extended Departure Period'\n",
      " '[8I] Inadmissible - ICE Fugitive - Expedited Removal'\n",
      " '[8D] Excludable / Inadmissible - Under Adjudication by BIA'\n",
      " '[11] Administrative Deportation / Removal'\n",
      " '[2B] Deportable - Under Adjudication by BIA'\n",
      " '[8H] Expedited Removal - Status Claim Referral'\n",
      " '[10] Visa Waiver Deportation / Removal'\n",
      " '[5E] Relief Granted - Extended Voluntary Departure'\n",
      " '[5C] Relief Granted - Withholding of Deportation / Removal'\n",
      " '[13] Section 250 Removal'\n",
      " '[5D] Final Order of Deportation / Removal - Deferred Action Granted'\n",
      " '[12] Judicial Deportation / Removal'\n",
      " '[1B] Voluntary Departure - Extended Departure Period'\n",
      " '[15] Terrorist Court Case (Title 5)'\n",
      " '[14] Crewmen, Stowaways, S-Visa Holders, 235(c) Cases']\n",
      "0.0\n"
     ]
    }
   ],
   "source": [
    "print(ice_clean['case_category'].unique())\n",
    "\n",
    "# 63% NAs. \n",
    "# TODO: ask if NAs mean pending status\n",
    "print(ice_clean['case_category'].isna().sum() / ice_clean.shape[0])\n",
    "\n",
    "ice_clean.loc[:, 'case_category'] = ice_clean['case_category'].fillna('Unknown')"
   ]
  },
  {
   "cell_type": "markdown",
   "id": "ddeeb886",
   "metadata": {},
   "source": [
    "**Departed Date**: Date of actual departure or deportation from the United States.\n",
    "\n",
    "I'm assuming that missing values mean that the individual has not been deported. "
   ]
  },
  {
   "cell_type": "code",
   "execution_count": 196,
   "id": "21ce73b4",
   "metadata": {},
   "outputs": [
    {
     "name": "stdout",
     "output_type": "stream",
     "text": [
      "0.8561618052663142\n"
     ]
    }
   ],
   "source": [
    "print(ice_clean['departed_date'].isna().sum() / ice_clean.shape[0])"
   ]
  },
  {
   "cell_type": "markdown",
   "id": "d6eabdce",
   "metadata": {},
   "source": [
    "**Departure Country**: Country to which the individual was deported.\n",
    "\n",
    "Since this variable depends on whether an individual was actually deported, I'm changing all the missing values to \"Not applicable\" and assuming the missing vallues mean that an individual has not yet been deported at the time of data collection"
   ]
  },
  {
   "cell_type": "code",
   "execution_count": 197,
   "id": "1e8a014a",
   "metadata": {},
   "outputs": [
    {
     "name": "stdout",
     "output_type": "stream",
     "text": [
      "0.0\n"
     ]
    }
   ],
   "source": [
    "# % NAs for departure_country > % NAs for departed date\n",
    "print(ice_clean['departure_country'].isna().sum()/ice_clean.shape[0])\n",
    "ice_clean.loc[:, 'departure_country'] = ice_clean['departure_country'].fillna('Not applicable')\n",
    "\n",
    "# looking for instances where an individual was deported but we don't know which country they went to\n",
    "ice_clean[(ice_clean['departure_country'] == \"Not applicable\") & ~(ice_clean['departed_date'].isna())]\n",
    "\n",
    "ice_clean.loc[\n",
    "    (ice_clean['departure_country'] == \"Not applicable\") & ice_clean['departed_date'].notna(),\n",
    "    'departure_country'\n",
    "] = \"Unknown\"\n"
   ]
  },
  {
   "cell_type": "markdown",
   "id": "d56da4fd",
   "metadata": {},
   "source": [
    "**Final Order (Yes/No)** : This indicates whether an individual has a final order of removal, which means an order of removal that was either affirmed on appeal or not appealed, or that was issued without the involvement of an immigration judge (for example, in expedited removal). \n",
    "\n",
    "Replace NAs with \"Unknown\""
   ]
  },
  {
   "cell_type": "code",
   "execution_count": 198,
   "id": "a5276672",
   "metadata": {},
   "outputs": [],
   "source": [
    "ice_clean.loc[:, 'final_order_yes_no'] = ice_clean['final_order_yes_no'].fillna('Unknown')"
   ]
  },
  {
   "cell_type": "markdown",
   "id": "17b73d91",
   "metadata": {},
   "source": []
  },
  {
   "cell_type": "markdown",
   "id": "3ac50619",
   "metadata": {},
   "source": [
    "**Final Order Date**: Date of the final order of removal, which means an order of removal that was either affirmed on appeal or not appealed, or that was issued without the involvement of an immigration judge (for example, in expedited removal).\n",
    "\n",
    "Since it is a date, I will keep the missing values as-is. "
   ]
  },
  {
   "cell_type": "code",
   "execution_count": 199,
   "id": "2ff8c933",
   "metadata": {},
   "outputs": [
    {
     "name": "stdout",
     "output_type": "stream",
     "text": [
      "0.8143407374328543\n"
     ]
    }
   ],
   "source": [
    "print(ice_clean['final_order_date'].isna().sum() / ice_clean.shape[0])"
   ]
  },
  {
   "cell_type": "markdown",
   "id": "6ad61222",
   "metadata": {},
   "source": [
    "**Birth Year**"
   ]
  },
  {
   "cell_type": "code",
   "execution_count": 200,
   "id": "f857d67c",
   "metadata": {},
   "outputs": [
    {
     "name": "stdout",
     "output_type": "stream",
     "text": [
      "0.0\n"
     ]
    }
   ],
   "source": [
    "# low % of missing values\n",
    "print(ice_clean['birth_year'].isna().sum() / ice_clean.shape[0])\n",
    "\n",
    "ice_clean = ice_clean.dropna(subset='birth_year')"
   ]
  },
  {
   "cell_type": "markdown",
   "id": "6101414d",
   "metadata": {},
   "source": [
    "**Citizenship Country**"
   ]
  },
  {
   "cell_type": "code",
   "execution_count": 201,
   "id": "663d2054",
   "metadata": {},
   "outputs": [
    {
     "name": "stdout",
     "output_type": "stream",
     "text": [
      "0.0\n"
     ]
    }
   ],
   "source": [
    "\n",
    "print(ice_clean['citizenship_country'].isna().sum() / ice_clean.shape[0])"
   ]
  },
  {
   "cell_type": "markdown",
   "id": "3a446618",
   "metadata": {},
   "source": [
    "**Gender**"
   ]
  },
  {
   "cell_type": "code",
   "execution_count": 202,
   "id": "8ce8f9f6",
   "metadata": {},
   "outputs": [
    {
     "name": "stdout",
     "output_type": "stream",
     "text": [
      "0.0\n"
     ]
    }
   ],
   "source": [
    "\n",
    "print(ice_clean['gender'].isna().sum() / ice_clean.shape[0])"
   ]
  },
  {
   "cell_type": "markdown",
   "id": "19edc80b",
   "metadata": {},
   "source": [
    "**Event Landmark**: Either an actual location or an ICE division associated with an arrest. See https://uwchr.github.io/ice-enforce/landmarks.html for details. Seems to be nested within AOR?"
   ]
  },
  {
   "cell_type": "code",
   "execution_count": 203,
   "id": "0f64b802",
   "metadata": {},
   "outputs": [
    {
     "name": "stdout",
     "output_type": "stream",
     "text": [
      "0.0\n"
     ]
    }
   ],
   "source": [
    "print(ice_clean['event_landmark'].isna().sum() / ice_clean.shape[0])\n",
    "ice_clean.loc[:, 'event_landmark'] = ice_clean['event_landmark'].fillna('Unknown')"
   ]
  },
  {
   "cell_type": "code",
   "execution_count": 204,
   "id": "de08a7ce",
   "metadata": {},
   "outputs": [
    {
     "data": {
      "text/html": [
       "<div>\n",
       "<style scoped>\n",
       "    .dataframe tbody tr th:only-of-type {\n",
       "        vertical-align: middle;\n",
       "    }\n",
       "\n",
       "    .dataframe tbody tr th {\n",
       "        vertical-align: top;\n",
       "    }\n",
       "\n",
       "    .dataframe thead th {\n",
       "        text-align: right;\n",
       "    }\n",
       "</style>\n",
       "<table border=\"1\" class=\"dataframe\">\n",
       "  <thead>\n",
       "    <tr style=\"text-align: right;\">\n",
       "      <th></th>\n",
       "      <th>event_date</th>\n",
       "      <th>responsible_aor</th>\n",
       "      <th>responsible_site</th>\n",
       "      <th>lead_event_type</th>\n",
       "      <th>lead_source</th>\n",
       "      <th>event_type</th>\n",
       "      <th>final_program</th>\n",
       "      <th>final_program_group</th>\n",
       "      <th>encounter_criminality</th>\n",
       "      <th>processing_disposition</th>\n",
       "      <th>...</th>\n",
       "      <th>final_order_date</th>\n",
       "      <th>birth_date</th>\n",
       "      <th>birth_year</th>\n",
       "      <th>citizenship_country</th>\n",
       "      <th>gender</th>\n",
       "      <th>event_landmark</th>\n",
       "      <th>alien_file_number</th>\n",
       "      <th>eid_case_id</th>\n",
       "      <th>eid_subject_id</th>\n",
       "      <th>unique_identifier</th>\n",
       "    </tr>\n",
       "  </thead>\n",
       "  <tbody>\n",
       "    <tr>\n",
       "      <th>0</th>\n",
       "      <td>2024-08-03</td>\n",
       "      <td>HQ Area of Responsibility</td>\n",
       "      <td>ERO - Pacific Enforcement Response Center</td>\n",
       "      <td>Not applicable</td>\n",
       "      <td>Not applicable</td>\n",
       "      <td>CAP Local</td>\n",
       "      <td>ERO Criminal Alien Program</td>\n",
       "      <td>ICE</td>\n",
       "      <td>3 Other Immigration Violator</td>\n",
       "      <td>Prosecutorial Discretion</td>\n",
       "      <td>...</td>\n",
       "      <td>NaT</td>\n",
       "      <td>(b)(6), (b)(7)(c)</td>\n",
       "      <td>2006.0</td>\n",
       "      <td>HONDURAS</td>\n",
       "      <td>Male</td>\n",
       "      <td>Unknown</td>\n",
       "      <td>(b)(6), (b)(7)(c)</td>\n",
       "      <td>NaN</td>\n",
       "      <td>(b)(6), (b)(7)(C), (6)(7)(E)</td>\n",
       "      <td>000080c6fa4a6ecd0b3beed3c559582c4205c50a</td>\n",
       "    </tr>\n",
       "    <tr>\n",
       "      <th>1</th>\n",
       "      <td>2024-10-18</td>\n",
       "      <td>Seattle Area of Responsibility</td>\n",
       "      <td>PORTLAND, OR, DOCKET CONTROL OFFICE</td>\n",
       "      <td>Not applicable</td>\n",
       "      <td>Not applicable</td>\n",
       "      <td>CAP Local</td>\n",
       "      <td>ERO Criminal Alien Program</td>\n",
       "      <td>ICE</td>\n",
       "      <td>3 Other Immigration Violator</td>\n",
       "      <td>Not in Custody</td>\n",
       "      <td>...</td>\n",
       "      <td>NaT</td>\n",
       "      <td>(b)(6), (b)(7)(c)</td>\n",
       "      <td>2006.0</td>\n",
       "      <td>HONDURAS</td>\n",
       "      <td>Unknown</td>\n",
       "      <td>Unknown</td>\n",
       "      <td>(b)(6), (b)(7)(c)</td>\n",
       "      <td>(b)(6), (b)(7)(c) (b)(7)(E)</td>\n",
       "      <td>(b)(6), (b)(7)(C), (6)(7)(E)</td>\n",
       "      <td>000080c6fa4a6ecd0b3beed3c559582c4205c50a</td>\n",
       "    </tr>\n",
       "    <tr>\n",
       "      <th>2</th>\n",
       "      <td>2024-11-21</td>\n",
       "      <td>Seattle Area of Responsibility</td>\n",
       "      <td>PORTLAND, OR, DOCKET CONTROL OFFICE</td>\n",
       "      <td>Not applicable</td>\n",
       "      <td>Not applicable</td>\n",
       "      <td>CAP Local</td>\n",
       "      <td>ERO Criminal Alien Program</td>\n",
       "      <td>ICE</td>\n",
       "      <td>3 Other Immigration Violator</td>\n",
       "      <td>Warrant of Arrest/Notice to Appear</td>\n",
       "      <td>...</td>\n",
       "      <td>NaT</td>\n",
       "      <td>(b)(6), (b)(7)(c)</td>\n",
       "      <td>2006.0</td>\n",
       "      <td>HONDURAS</td>\n",
       "      <td>Unknown</td>\n",
       "      <td>Unknown</td>\n",
       "      <td>(b)(6), (b)(7)(c)</td>\n",
       "      <td>NaN</td>\n",
       "      <td>(b)(6), (b)(7)(C), (6)(7)(E)</td>\n",
       "      <td>000080c6fa4a6ecd0b3beed3c559582c4205c50a</td>\n",
       "    </tr>\n",
       "    <tr>\n",
       "      <th>3</th>\n",
       "      <td>2025-02-16</td>\n",
       "      <td>HQ Area of Responsibility</td>\n",
       "      <td>ERO - Pacific Enforcement Response Center</td>\n",
       "      <td>Not applicable</td>\n",
       "      <td>Not applicable</td>\n",
       "      <td>CAP Local</td>\n",
       "      <td>ERO Criminal Alien Program</td>\n",
       "      <td>ICE</td>\n",
       "      <td>3 Other Immigration Violator</td>\n",
       "      <td>Not in Custody</td>\n",
       "      <td>...</td>\n",
       "      <td>NaT</td>\n",
       "      <td>(b)(6), (b)(7)(c)</td>\n",
       "      <td>2002.0</td>\n",
       "      <td>MEXICO</td>\n",
       "      <td>Male</td>\n",
       "      <td>Unknown</td>\n",
       "      <td>(b)(6), (b)(7)(c)</td>\n",
       "      <td>NaN</td>\n",
       "      <td>(b)(6), (b)(7)(C), (6)(7)(E)</td>\n",
       "      <td>0000ad75abb300f8b89ada314a02a508fb886ad8</td>\n",
       "    </tr>\n",
       "    <tr>\n",
       "      <th>4</th>\n",
       "      <td>2025-03-20</td>\n",
       "      <td>New York City Area of Responsibility</td>\n",
       "      <td>VARRICK, NY, SERVICE PROCESSING CENTER (DOCKET...</td>\n",
       "      <td>Not applicable</td>\n",
       "      <td>Not applicable</td>\n",
       "      <td>CAP Local</td>\n",
       "      <td>ERO Criminal Alien Program</td>\n",
       "      <td>ICE</td>\n",
       "      <td>2 Pending Criminal Charges</td>\n",
       "      <td>Detainer</td>\n",
       "      <td>...</td>\n",
       "      <td>NaT</td>\n",
       "      <td>(b)(6), (b)(7)(c)</td>\n",
       "      <td>1980.0</td>\n",
       "      <td>VENEZUELA</td>\n",
       "      <td>Male</td>\n",
       "      <td>CAP - QUEENS CENTRAL BOOKING NY State</td>\n",
       "      <td>(b)(6), (b)(7)(c)</td>\n",
       "      <td>(b)(6), (b)(7)(c) (b)(7)(E)</td>\n",
       "      <td>(b)(6), (b)(7)(C), (6)(7)(E)</td>\n",
       "      <td>0000b05116e18fc26472d546d43da50f24133e9c</td>\n",
       "    </tr>\n",
       "  </tbody>\n",
       "</table>\n",
       "<p>5 rows × 25 columns</p>\n",
       "</div>"
      ],
      "text/plain": [
       "  event_date                       responsible_aor  \\\n",
       "0 2024-08-03             HQ Area of Responsibility   \n",
       "1 2024-10-18        Seattle Area of Responsibility   \n",
       "2 2024-11-21        Seattle Area of Responsibility   \n",
       "3 2025-02-16             HQ Area of Responsibility   \n",
       "4 2025-03-20  New York City Area of Responsibility   \n",
       "\n",
       "                                    responsible_site lead_event_type  \\\n",
       "0          ERO - Pacific Enforcement Response Center  Not applicable   \n",
       "1                PORTLAND, OR, DOCKET CONTROL OFFICE  Not applicable   \n",
       "2                PORTLAND, OR, DOCKET CONTROL OFFICE  Not applicable   \n",
       "3          ERO - Pacific Enforcement Response Center  Not applicable   \n",
       "4  VARRICK, NY, SERVICE PROCESSING CENTER (DOCKET...  Not applicable   \n",
       "\n",
       "      lead_source event_type               final_program final_program_group  \\\n",
       "0  Not applicable  CAP Local  ERO Criminal Alien Program                 ICE   \n",
       "1  Not applicable  CAP Local  ERO Criminal Alien Program                 ICE   \n",
       "2  Not applicable  CAP Local  ERO Criminal Alien Program                 ICE   \n",
       "3  Not applicable  CAP Local  ERO Criminal Alien Program                 ICE   \n",
       "4  Not applicable  CAP Local  ERO Criminal Alien Program                 ICE   \n",
       "\n",
       "          encounter_criminality              processing_disposition  ...  \\\n",
       "0  3 Other Immigration Violator            Prosecutorial Discretion  ...   \n",
       "1  3 Other Immigration Violator                      Not in Custody  ...   \n",
       "2  3 Other Immigration Violator  Warrant of Arrest/Notice to Appear  ...   \n",
       "3  3 Other Immigration Violator                      Not in Custody  ...   \n",
       "4    2 Pending Criminal Charges                            Detainer  ...   \n",
       "\n",
       "  final_order_date         birth_date birth_year citizenship_country   gender  \\\n",
       "0              NaT  (b)(6), (b)(7)(c)     2006.0            HONDURAS     Male   \n",
       "1              NaT  (b)(6), (b)(7)(c)     2006.0            HONDURAS  Unknown   \n",
       "2              NaT  (b)(6), (b)(7)(c)     2006.0            HONDURAS  Unknown   \n",
       "3              NaT  (b)(6), (b)(7)(c)     2002.0              MEXICO     Male   \n",
       "4              NaT  (b)(6), (b)(7)(c)     1980.0           VENEZUELA     Male   \n",
       "\n",
       "                          event_landmark  alien_file_number  \\\n",
       "0                                Unknown  (b)(6), (b)(7)(c)   \n",
       "1                                Unknown  (b)(6), (b)(7)(c)   \n",
       "2                                Unknown  (b)(6), (b)(7)(c)   \n",
       "3                                Unknown  (b)(6), (b)(7)(c)   \n",
       "4  CAP - QUEENS CENTRAL BOOKING NY State  (b)(6), (b)(7)(c)   \n",
       "\n",
       "                   eid_case_id                eid_subject_id  \\\n",
       "0                          NaN  (b)(6), (b)(7)(C), (6)(7)(E)   \n",
       "1  (b)(6), (b)(7)(c) (b)(7)(E)  (b)(6), (b)(7)(C), (6)(7)(E)   \n",
       "2                          NaN  (b)(6), (b)(7)(C), (6)(7)(E)   \n",
       "3                          NaN  (b)(6), (b)(7)(C), (6)(7)(E)   \n",
       "4  (b)(6), (b)(7)(c) (b)(7)(E)  (b)(6), (b)(7)(C), (6)(7)(E)   \n",
       "\n",
       "                          unique_identifier  \n",
       "0  000080c6fa4a6ecd0b3beed3c559582c4205c50a  \n",
       "1  000080c6fa4a6ecd0b3beed3c559582c4205c50a  \n",
       "2  000080c6fa4a6ecd0b3beed3c559582c4205c50a  \n",
       "3  0000ad75abb300f8b89ada314a02a508fb886ad8  \n",
       "4  0000b05116e18fc26472d546d43da50f24133e9c  \n",
       "\n",
       "[5 rows x 25 columns]"
      ]
     },
     "execution_count": 204,
     "metadata": {},
     "output_type": "execute_result"
    }
   ],
   "source": [
    "ice_clean.head()"
   ]
  },
  {
   "cell_type": "code",
   "execution_count": 205,
   "id": "ed85ef0a",
   "metadata": {},
   "outputs": [],
   "source": [
    "ice_clean.to_csv('ice_encounters_cleaned.csv', index=False)"
   ]
  },
  {
   "cell_type": "markdown",
   "id": "7d8a2e72",
   "metadata": {},
   "source": []
  }
 ],
 "metadata": {
  "kernelspec": {
   "display_name": "css",
   "language": "python",
   "name": "python3"
  },
  "language_info": {
   "codemirror_mode": {
    "name": "ipython",
    "version": 3
   },
   "file_extension": ".py",
   "mimetype": "text/x-python",
   "name": "python",
   "nbconvert_exporter": "python",
   "pygments_lexer": "ipython3",
   "version": "3.13.5"
  }
 },
 "nbformat": 4,
 "nbformat_minor": 5
}
